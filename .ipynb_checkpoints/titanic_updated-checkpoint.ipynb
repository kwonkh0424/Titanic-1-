{
 "cells": [
  {
   "cell_type": "markdown",
   "metadata": {},
   "source": [
    "# Titanic Analysis\n",
    "\n",
    "### What sorts of people were more likely to survive?\n",
    "\n",
    "Project Summary: The sinking of the RMS Titanic is one of the most infamous shipwrecks in history. On April 15, 1912, during her maiden voyage, the Titanic sank after colliding with an iceberg, killing 1502 out of 2224 passengers and crew. This sensational tragedy shocked the international community and led to better safety regulations for ships.\n",
    "\n",
    "One of the reasons that the shipwreck led to such loss of life was that there were not enough lifeboats for the passengers and crew. Although there was some element of luck involved in surviving the sinking, some groups of people were more likely to survive than others, such as women, children, and the upper-class.\n",
    "\n",
    "Project Goal: Finding a model that effectively predicts a Titanic passenger's survival"
   ]
  },
  {
   "cell_type": "markdown",
   "metadata": {},
   "source": [
    "## Step 1: Import Data\n",
    "\n",
    "Following data files were given:\n",
    "Model-buidling: 'train.csv'\n",
    "Evaluating: 'test.csv','gender.csv'"
   ]
  },
  {
   "cell_type": "code",
   "execution_count": 110,
   "metadata": {},
   "outputs": [],
   "source": [
    "import pandas as pd\n",
    "import seaborn as sns\n",
    "import numpy as np\n",
    "import operator\n",
    "import matplotlib.pyplot as plt\n",
    "from numpy import arange\n",
    "from scipy.spatial import distance\n",
    "from sklearn import metrics\n",
    "from sklearn import preprocessing\n",
    "\n",
    "#Machine Learning Tools\n",
    "from sklearn.neighbors import KNeighborsClassifier \n",
    "from sklearn.tree import DecisionTreeClassifier\n",
    "from sklearn.ensemble import RandomForestClassifier\n",
    "from sklearn.linear_model import LogisticRegression\n",
    "from sklearn.neural_network import MLPClassifier\n",
    "\n",
    "#Error Calculating Tools\n",
    "from sklearn.metrics import mean_squared_error\n",
    "from sklearn.metrics import roc_auc_score\n",
    "\n",
    "#Importing Data\n",
    "gender=pd.read_csv('gender_submission.csv')\n",
    "test=pd.read_csv('test.csv')\n",
    "train=pd.read_csv('train.csv')"
   ]
  },
  {
   "cell_type": "markdown",
   "metadata": {},
   "source": [
    "## Step 2: Inspect Data\n",
    "\n",
    "Let's take a look closer at each data set. Few of the data characteristics that we are looking for:\n",
    "- column names\n",
    "- data type\n",
    "- number of rows\n",
    "- missing values (null)\n",
    "- plausible features that could impact survival rate\n",
    "- target column"
   ]
  },
  {
   "cell_type": "code",
   "execution_count": 111,
   "metadata": {},
   "outputs": [
    {
     "name": "stdout",
     "output_type": "stream",
     "text": [
      "   PassengerId  Survived\n",
      "0          892         0\n",
      "1          893         1\n",
      "2          894         0\n",
      "3          895         0\n",
      "4          896         1\n",
      "   PassengerId  Pclass                                          Name     Sex  \\\n",
      "0          892       3                              Kelly, Mr. James    male   \n",
      "1          893       3              Wilkes, Mrs. James (Ellen Needs)  female   \n",
      "2          894       2                     Myles, Mr. Thomas Francis    male   \n",
      "3          895       3                              Wirz, Mr. Albert    male   \n",
      "4          896       3  Hirvonen, Mrs. Alexander (Helga E Lindqvist)  female   \n",
      "\n",
      "    Age  SibSp  Parch   Ticket     Fare Cabin Embarked  \n",
      "0  34.5      0      0   330911   7.8292   NaN        Q  \n",
      "1  47.0      1      0   363272   7.0000   NaN        S  \n",
      "2  62.0      0      0   240276   9.6875   NaN        Q  \n",
      "3  27.0      0      0   315154   8.6625   NaN        S  \n",
      "4  22.0      1      1  3101298  12.2875   NaN        S  \n",
      "   PassengerId  Survived  Pclass  \\\n",
      "0            1         0       3   \n",
      "1            2         1       1   \n",
      "2            3         1       3   \n",
      "3            4         1       1   \n",
      "4            5         0       3   \n",
      "\n",
      "                                                Name     Sex   Age  SibSp  \\\n",
      "0                            Braund, Mr. Owen Harris    male  22.0      1   \n",
      "1  Cumings, Mrs. John Bradley (Florence Briggs Th...  female  38.0      1   \n",
      "2                             Heikkinen, Miss. Laina  female  26.0      0   \n",
      "3       Futrelle, Mrs. Jacques Heath (Lily May Peel)  female  35.0      1   \n",
      "4                           Allen, Mr. William Henry    male  35.0      0   \n",
      "\n",
      "   Parch            Ticket     Fare Cabin Embarked  \n",
      "0      0         A/5 21171   7.2500   NaN        S  \n",
      "1      0          PC 17599  71.2833   C85        C  \n",
      "2      0  STON/O2. 3101282   7.9250   NaN        S  \n",
      "3      0            113803  53.1000  C123        S  \n",
      "4      0            373450   8.0500   NaN        S  \n",
      "(891, 12)\n"
     ]
    }
   ],
   "source": [
    "# Let's take a look at the training and testing data sets:\n",
    "print(gender.head(5))\n",
    "print(test.head(5))\n",
    "print(train.head(5))\n",
    "print(train.shape)\n",
    "\n",
    "# There are total of 12 columns in train\n",
    "# test contains 11 columns (it doesn't contain 'Survived' column). Instead, there is gender dataset with 'Survival' column\n",
    "# Target Column: \"Survived\""
   ]
  },
  {
   "cell_type": "code",
   "execution_count": 112,
   "metadata": {},
   "outputs": [],
   "source": [
    "# Note that test data is divided into two: 'test.csv' and 'gender.csv'\n",
    "# While it is possible to use two seperate DataFrames for modeling. I will combine two files for easy data cleaning.\n",
    "\n",
    "#Combining two dataframe into one using PassengerID\n",
    "merge_gender_test=pd.merge(left=gender,right=test,on='PassengerId')"
   ]
  },
  {
   "cell_type": "code",
   "execution_count": 113,
   "metadata": {},
   "outputs": [
    {
     "name": "stdout",
     "output_type": "stream",
     "text": [
      "       PassengerId    Survived      Pclass         Age       SibSp  \\\n",
      "count   891.000000  891.000000  891.000000  714.000000  891.000000   \n",
      "mean    446.000000    0.383838    2.308642   29.699118    0.523008   \n",
      "std     257.353842    0.486592    0.836071   14.526497    1.102743   \n",
      "min       1.000000    0.000000    1.000000    0.420000    0.000000   \n",
      "25%     223.500000    0.000000    2.000000   20.125000    0.000000   \n",
      "50%     446.000000    0.000000    3.000000   28.000000    0.000000   \n",
      "75%     668.500000    1.000000    3.000000   38.000000    1.000000   \n",
      "max     891.000000    1.000000    3.000000   80.000000    8.000000   \n",
      "\n",
      "            Parch        Fare  \n",
      "count  891.000000  891.000000  \n",
      "mean     0.381594   32.204208  \n",
      "std      0.806057   49.693429  \n",
      "min      0.000000    0.000000  \n",
      "25%      0.000000    7.910400  \n",
      "50%      0.000000   14.454200  \n",
      "75%      0.000000   31.000000  \n",
      "max      6.000000  512.329200  \n"
     ]
    }
   ],
   "source": [
    "# Let's check 'train' dataframe to see if there are any misleading/false data.\n",
    "\n",
    "print(train.describe())\n",
    "\n",
    "# All min and max values are reasonable. For example, if there was max 'age' of 130, it is a sign that there might be some false data.\n",
    "# Looking at the count of each columns, we could tell that there are several missing values for 'age' column."
   ]
  },
  {
   "cell_type": "code",
   "execution_count": 114,
   "metadata": {},
   "outputs": [
    {
     "name": "stdout",
     "output_type": "stream",
     "text": [
      "{'PassengerId': 0, 'Survived': 0, 'Pclass': 0, 'Name': 0, 'Sex': 0, 'Age': 177, 'SibSp': 0, 'Parch': 0, 'Ticket': 0, 'Fare': 0, 'Cabin': 687, 'Embarked': 2}\n",
      "10        G6\n",
      "21       D56\n",
      "66       F33\n",
      "75     F G73\n",
      "123     E101\n",
      "Name: Cabin, dtype: object\n",
      "1      C85\n",
      "3     C123\n",
      "6      E46\n",
      "11    C103\n",
      "23      A6\n",
      "Name: Cabin, dtype: object\n"
     ]
    },
    {
     "data": {
      "image/png": "[encoded data removed]",
      "text/plain": [
       "<Figure size 432x288 with 1 Axes>"
      ]
     },
     "metadata": {},
     "output_type": "display_data"
    }
   ],
   "source": [
    "# Let's look at each columns closer to find if there are any more null values.\n",
    "null_each_col={}\n",
    "\n",
    "for col in train.columns:\n",
    "    null_count=train[col].isnull().sum()\n",
    "    null_each_col[col]=null_count\n",
    "print(null_each_col)\n",
    "\n",
    "# 177 null values in the 'Age' column, 687 null values in the 'Cabin' column, and 2 null values in the 'Embarked' column\n",
    "\n",
    "train_updated=train.set_index('Pclass')\n",
    "train_updated=train_updated.sort_index()\n",
    "sns.heatmap(train_updated.isnull(),cbar=False)\n",
    "# Heat map shows that Cabin information is missing for 'Pclass' 2 and 3.\n",
    "\n",
    "# Looking closer at Class 2 and 3's cabin values.\n",
    "class23_cabin=train[train['Pclass']>=2].dropna()\n",
    "print(class23_cabin['Cabin'].head())\n",
    "class1_cabin=train[train['Pclass']==1].dropna()\n",
    "print(class1_cabin['Cabin'].head())\n",
    "\n",
    "# Null valuse in other columns will cleaned later. After more closer examination using data visualization, data will be cleaned (Step 4)"
   ]
  },
  {
   "cell_type": "code",
   "execution_count": 115,
   "metadata": {},
   "outputs": [
    {
     "data": {
      "text/plain": [
       "0"
      ]
     },
     "execution_count": 115,
     "metadata": {},
     "output_type": "execute_result"
    }
   ],
   "source": [
    "# Analyzing 'train' dataframe: Duplicate Values\n",
    "train.duplicated().sum()\n",
    "# no duplicate value found"
   ]
  },
  {
   "cell_type": "markdown",
   "metadata": {},
   "source": [
    "## Step 3: Data Visualization\n",
    "\n",
    "Before diving into machine learning process, let's inspect the data using data visualization.\n",
    "Here I will explore survival rate among different age, gender, and passanger class groups."
   ]
  },
  {
   "cell_type": "code",
   "execution_count": 116,
   "metadata": {},
   "outputs": [
    {
     "data": {
      "image/png": "[encoded data removed]",
      "text/plain": [
       "<Figure size 432x288 with 1 Axes>"
      ]
     },
     "metadata": {},
     "output_type": "display_data"
    }
   ],
   "source": [
    "# Survival Rate By Age: Kernel Density Plot\n",
    "\n",
    "train[train.Survived==1]['Age'].plot.kde(label='Survived',legend=True)\n",
    "train[train.Survived==0]['Age'].plot.kde(label='Not Survived',legend=True,xlim=(0,100),title='Density Plot by Age')\n",
    "plt.xlabel('Age')\n",
    "plt.show()\n",
    "# The largest difference between survivde and not survided group found in younger ages (lower than 40)\n",
    "# However, density plot is not the best method to compare survived and not survived groups by age."
   ]
  },
  {
   "cell_type": "code",
   "execution_count": 117,
   "metadata": {},
   "outputs": [
    {
     "data": {
      "text/plain": [
       "Text(0.5, 0, 'Age Group')"
      ]
     },
     "execution_count": 117,
     "metadata": {},
     "output_type": "execute_result"
    },
    {
     "data": {
      "image/png": "[encoded data removed]",
      "text/plain": [
       "<Figure size 432x288 with 1 Axes>"
      ]
     },
     "metadata": {},
     "output_type": "display_data"
    }
   ],
   "source": [
    "# Survial Rate by Age: Grouped Bar Chart\n",
    "\n",
    "# For more effective comparison between passangers with different age, passagers are divided into different age groups.\n",
    "# Converting nominal data into ordinal data (children(0-15),young_adult(15-30),adult(30-45),older_adult(45-60),seniors(60+))\n",
    "\n",
    "def make_age_ordinal(row):\n",
    "    if row['Age'] <= 15:\n",
    "        return 'children'\n",
    "    if (15 < row['Age'] <= 30):\n",
    "        return 'younger_adult'\n",
    "    if (30 < row['Age'] <=  45):\n",
    "        return 'adult'\n",
    "    if (45 < row['Age'] <= 60):\n",
    "        return 'older_adult'\n",
    "    else:\n",
    "        return 'senior'\n",
    "\n",
    "# Creating a new column 'Age_ordinal' to convert age into different groups\n",
    "train['Age_ordinal']=train.apply(make_age_ordinal,axis=1)\n",
    "\n",
    "# Before plotting the survival rate of each age group, let's verify if there are enough number of data in each group.\n",
    "# If there are very few data points in a certain age group, our comparison could be misleading.\n",
    "# For example, if there are less than 10 values in 'children' group, the data could be biased.\n",
    "\n",
    "sns.set(style=\"darkgrid\")\n",
    "sns.countplot(x='Age_ordinal',data=train,order=['children','younger_adult','adult','older_adult','senior'])\n",
    "plt.title('Total Number of People by Age Group')\n",
    "plt.ylabel('Number of People')\n",
    "plt.xlabel('Age Group')\n",
    "\n",
    "# The bar plot shows that 'younger_adult' group has the largest count.\n",
    "# Since there are enough values in each age group, let's proceed to survival rate comparison."
   ]
  },
  {
   "cell_type": "code",
   "execution_count": 118,
   "metadata": {},
   "outputs": [
    {
     "name": "stdout",
     "output_type": "stream",
     "text": [
      "{'Age Group': Index(['younger_adult', 'adult', 'senior', 'children', 'older_adult'], dtype='object'), 'Survival Rate': younger_adult    0.358896\n",
      "adult            0.425743\n",
      "senior           0.286432\n",
      "children         0.590361\n",
      "older_adult      0.407407\n",
      "Name: Age_ordinal, dtype: float64}\n"
     ]
    },
    {
     "data": {
      "image/png": "[encoded data removed]",
      "text/plain": [
       "<Figure size 432x288 with 1 Axes>"
      ]
     },
     "metadata": {},
     "output_type": "display_data"
    }
   ],
   "source": [
    "# Survial Rate by Age: Grouped Bar Chart - continued\n",
    "\n",
    "# In order to easy compare between the age group, a new column is created \"Survival Rate\"\n",
    "# Survival Rate: number of survived passangers / total number of passagers within each group\n",
    "\n",
    "count_train_age=train['Age_ordinal'].value_counts()\n",
    "train_age_surv=train[train['Survived']==1]['Age_ordinal'].value_counts()\n",
    "survival_rate_age=train_age_surv/count_train_age\n",
    "\n",
    "#creating a dataframe of survival rates of different age groups\n",
    "df_survival_rate_age={}\n",
    "df_survival_rate_age['Age Group']=survival_rate_age.index\n",
    "df_survival_rate_age['Survival Rate']=survival_rate_age\n",
    "print(df_survival_rate_age)\n",
    "\n",
    "#box chart\n",
    "plt.bar(range(len(df_survival_rate_age['Age Group'])),df_survival_rate_age['Survival Rate'])\n",
    "plt.xticks(range(len(df_survival_rate_age['Age Group'])),df_survival_rate_age['Age Group'])\n",
    "plt.ylabel('Survival Rate')\n",
    "plt.title('Survival Rate by Gender')\n",
    "plt.show()\n",
    "\n",
    "#Bar chart shows that the survival rate is highest for children (age:0~15) and lowest for seniors (age:60+)"
   ]
  },
  {
   "cell_type": "code",
   "execution_count": 119,
   "metadata": {},
   "outputs": [
    {
     "name": "stdout",
     "output_type": "stream",
     "text": [
      "1    233\n",
      "0     81\n",
      "Name: Survived, dtype: int64\n",
      "0.25796178343949044\n",
      "0    468\n",
      "1    109\n",
      "Name: Survived, dtype: int64\n",
      "0.18890814558058924\n",
      "       male    female\n",
      "0  0.188908  0.257962\n"
     ]
    },
    {
     "data": {
      "image/png": "[encoded data removed]",
      "text/plain": [
       "<Figure size 432x288 with 1 Axes>"
      ]
     },
     "metadata": {},
     "output_type": "display_data"
    }
   ],
   "source": [
    "# Survial Rate by Gender: Bar Chart \n",
    "\n",
    "# Let's first calculate survival rate of each gender group:\n",
    "female_survive=train[train['Sex']=='female']['Survived'].value_counts()\n",
    "female_survival_rate=female_survive[0]/female_survive.sum()\n",
    "print(female_survive)\n",
    "print(female_survival_rate)\n",
    "male_survive=train[train['Sex']=='male']['Survived'].value_counts()\n",
    "male_survival_rate=male_survive[1]/male_survive.sum()\n",
    "print(male_survive)\n",
    "print(male_survival_rate)\n",
    "\n",
    "# Females' survival rate is about 7 percent higher than that of male\n",
    "\n",
    "# Visualizing Gender Difference:\n",
    "gen_surv_rate={'male':[male_survival_rate],'female':[female_survival_rate]}\n",
    "df_gen_surv_rate=pd.DataFrame(data=gen_surv_rate)\n",
    "print(df_gen_surv_rate)\n",
    "# Creating a bar chart\n",
    "fig,ax=plt.subplots()\n",
    "bar_positions=arange(2)/6\n",
    "ax.bar(bar_positions,df_gen_surv_rate.iloc[0,:],0.1,color=['black','red'])\n",
    "ax.set_xticks(bar_positions)\n",
    "ax.set_xticklabels(df_gen_surv_rate.columns)\n",
    "ax.set_xlim(-0.1,0.27)\n",
    "ax.set_ylim(0,0.3)\n",
    "\n",
    "plt.tick_params(axis='both', which='both',bottom=False,left=False) \n",
    "plt.ylabel('Survival Rate')\n",
    "plt.title('Survival Rate by Gender')\n",
    "plt.show()"
   ]
  },
  {
   "cell_type": "code",
   "execution_count": 120,
   "metadata": {},
   "outputs": [
    {
     "name": "stdout",
     "output_type": "stream",
     "text": [
      "{'Class': Int64Index([1, 2, 3], dtype='int64'), 'Survival Rate': 1    0.629630\n",
      "2    0.472826\n",
      "3    0.242363\n",
      "Name: Pclass, dtype: float64}\n"
     ]
    },
    {
     "data": {
      "image/png": "[encoded data removed]",
      "text/plain": [
       "<Figure size 432x288 with 1 Axes>"
      ]
     },
     "metadata": {},
     "output_type": "display_data"
    },
    {
     "name": "stdout",
     "output_type": "stream",
     "text": [
      "1    0.629630\n",
      "2    0.472826\n",
      "3    0.242363\n",
      "Name: Pclass, dtype: float64\n"
     ]
    }
   ],
   "source": [
    "# Survial Rate by Passanger Class: Bar Chart\n",
    "\n",
    "# Survival Rate Calculation by class\n",
    "count_train_class=train['Pclass'].value_counts()\n",
    "train_class_surv=train[train['Survived']==1]['Pclass'].value_counts()\n",
    "\n",
    "survival_rate_class=train_class_surv/count_train_class\n",
    "xtick_name=['Class 1','Class 2','Class 3']\n",
    "\n",
    "df_survival_rate_class={}\n",
    "\n",
    "df_survival_rate_class['Class']=survival_rate_class.index\n",
    "df_survival_rate_class['Survival Rate']=survival_rate_class\n",
    "print(df_survival_rate_class)\n",
    "\n",
    "# Creating a bar chart\n",
    "plt.bar(range(len(df_survival_rate_class['Class'])),df_survival_rate_class['Survival Rate'])\n",
    "plt.xticks(range(len(df_survival_rate_class['Class'])),df_survival_rate_class['Class'])\n",
    "plt.ylabel('Survival Rate')\n",
    "plt.xlabel('Class')\n",
    "plt.title('Survival Rate by Gender')\n",
    "plt.show()\n",
    "\n",
    "print(survival_rate_class)\n",
    "\n",
    "# The bar chart shows that higher class passengers have a significantly higher survival rate than those who are lower.\n",
    "# This might be due to their room locations."
   ]
  },
  {
   "cell_type": "markdown",
   "metadata": {},
   "source": [
    "## Step 4: Data Cleaning\n",
    "\n",
    "Next step is to clean our data, making our data suitable for modeling/machine learning process. In this step we are looking to replace/remove any null values and dropping columns that does not impact our target column ('Survived').\n",
    "\n",
    "- Replacing Null Values with a Median Value\n",
    "- Dropping columns with excessive null values"
   ]
  },
  {
   "cell_type": "code",
   "execution_count": 121,
   "metadata": {},
   "outputs": [
    {
     "data": {
      "text/plain": [
       "<matplotlib.axes._subplots.AxesSubplot at 0x1b2244ad348>"
      ]
     },
     "execution_count": 121,
     "metadata": {},
     "output_type": "execute_result"
    },
    {
     "data": {
      "image/png": "[encoded data removed]",
      "text/plain": [
       "<Figure size 432x288 with 1 Axes>"
      ]
     },
     "metadata": {},
     "output_type": "display_data"
    }
   ],
   "source": [
    "# From Step 2, we know that 'Cabin' column mostly consists of null values.\n",
    "# Let's drop this column from train dataset.\n",
    "\n",
    "# Previously from Step 2, we have noted that 'Age' column had several missing values.\n",
    "# We could either drop those rows or replace them with mean/median values. \n",
    "# Since rows with missing 'Age' value is a significant portion of our total train data, dropping those rows entirely could limit our model.\n",
    "# Therefore, let's replace missing values with median 'Age'\n",
    "\n",
    "# 'data_cleaning' function was defined to: remove 'Cabin' column, replace null values in 'Age' column, and drop any other null values.\n",
    "\n",
    "def data_cleaning(data):\n",
    "    data=data.drop('Cabin',axis=1)\n",
    "    median_age=data['Age'].median()\n",
    "    data['Age'] = data['Age'].fillna(median_age)\n",
    "    data=data.dropna(axis=0)\n",
    "    return data\n",
    "\n",
    "train=data_cleaning(train)\n",
    "\n",
    "sns.heatmap(train.isnull(),cbar=False) # Confirming if there are any null values that we could have missed.\n",
    "\n",
    "# All null values omitted"
   ]
  },
  {
   "cell_type": "code",
   "execution_count": 122,
   "metadata": {},
   "outputs": [
    {
     "data": {
      "text/plain": [
       "<matplotlib.axes._subplots.AxesSubplot at 0x1b225859e88>"
      ]
     },
     "execution_count": 122,
     "metadata": {},
     "output_type": "execute_result"
    },
    {
     "data": {
      "image/png": "[encoded data removed]",
      "text/plain": [
       "<Figure size 432x288 with 1 Axes>"
      ]
     },
     "metadata": {},
     "output_type": "display_data"
    }
   ],
   "source": [
    "# Since our 'merge_gender_test' datasest has missing values, let's repeat the same process.\n",
    "\n",
    "merge_gender_test=data_cleaning(merge_gender_test)\n",
    "\n",
    "sns.heatmap(merge_gender_test.isnull(),cbar=False) # Confirming if there are any null values that we could have missed.\n",
    "# All null values omitted"
   ]
  },
  {
   "cell_type": "markdown",
   "metadata": {},
   "source": [
    "## Step 5: Normalizing Numerical Data\n",
    "\n",
    "### Normalizing the values in each column: the standard normal distribution\n",
    " Since there are large differences in magnitude of numerical columns like  Age, SibSp, Parch, and Fare, those columns need be normalized (values ranging from -1 to 1). Standard normal distribution method is utilized for the normalization process."
   ]
  },
  {
   "cell_type": "code",
   "execution_count": 123,
   "metadata": {},
   "outputs": [],
   "source": [
    "# Let's define a function to normalize numerical data from a dataset\n",
    "def normalization(data,column_names):\n",
    "    data_nur=data[column_names]\n",
    "    data_nur=(data_nur-data_nur.mean())/(data_nur.std()) #standard normal distribution\n",
    "    data[column_names]=data_nur[column_names]\n",
    "    return data\n",
    "\n",
    "# Applying function above to each dataset.\n",
    "num_col=['Age','SibSp','Parch','Fare']\n",
    "train=normalization(train,num_col)\n",
    "merge_gender_test=normalization(merge_gender_test,num_col)"
   ]
  },
  {
   "cell_type": "code",
   "execution_count": 124,
   "metadata": {},
   "outputs": [],
   "source": [
    "# Feature Selection\n",
    "# From Data Visualizaton, we have found that 'Age', 'Pclass', 'Sex' have high impact on each passanger's survival rate.\n",
    "# Features like 'PassangerID', 'Name', 'Ticket', 'Fare', 'Embarked' should not have a significant effect on the survival rate.\n",
    "# Let's only select thsoe columns when modeling.\n",
    "\n",
    "cat_feature=['Pclass','Sex'] # All categorical columns that we are interested in\n",
    "num_feature=['Age','SibSp','Parch'] # All numerical columns that we are interested in"
   ]
  },
  {
   "cell_type": "markdown",
   "metadata": {},
   "source": [
    "## Step 6: Converting Categorical Data Type\n",
    "\n",
    "Our machine learning methods requires input data to be numerical. Using OneHotEncoder, we can convert our categorical data into numerical values."
   ]
  },
  {
   "cell_type": "code",
   "execution_count": 125,
   "metadata": {},
   "outputs": [],
   "source": [
    "# Let's creat another function that converts any categorical data into numerical values\n",
    "\n",
    "def convert_cat(data,cat_feature,num_feature):\n",
    "    X_cat = np.array(data[cat_feature]) #converting categorical data into an array\n",
    "    enc = preprocessing.OneHotEncoder(handle_unknown='ignore').fit(X_cat) #OneHotEncoder\n",
    "    X_cat_onehot = enc.transform(X_cat).toarray()\n",
    "    X_num = np.array(data[num_feature])\n",
    "    X_data = np.concatenate((X_cat_onehot, X_num), axis=1)\n",
    "    Y_data = np.array(data['Survived']) #target feature\n",
    "    return X_data,Y_data\n",
    "\n",
    "X_train,Y_train=convert_cat(train,cat_feature,num_feature)\n",
    "X_test,Y_test=convert_cat(merge_gender_test,cat_feature,num_feature)"
   ]
  },
  {
   "cell_type": "markdown",
   "metadata": {},
   "source": [
    "## Step 7: Modeling\n",
    "\n",
    "\n",
    "- Logistic Regression\n",
    "- K Neighbors Classifier\n",
    "- Decision Tree\n",
    "- Random Forest\n",
    "- Neural Network (MLP)"
   ]
  },
  {
   "cell_type": "code",
   "execution_count": 149,
   "metadata": {},
   "outputs": [],
   "source": [
    "# Creating an empty list\n",
    "models = []\n",
    "\n",
    "# Adding different machine learning models into the list\n",
    "models.append(('Logistic_Regression', LogisticRegression(solver='liblinear', multi_class='ovr')))\n",
    "models.append(('K_Neighbors_Classifier', KNeighborsClassifier(n_neighbors=15)))\n",
    "models.append(('Decision_Tree', DecisionTreeClassifier(random_state=1,min_samples_split=15,max_depth=5)))\n",
    "models.append(('Random_Forest', RandomForestClassifier(random_state=1,n_estimators = 50,max_depth=5)))\n",
    "models.append(('Neural_Network_Logistic', MLPClassifier((10,10), activation='logistic',max_iter=1000)))\n",
    "models.append(('Neural_Network_ReLU', MLPClassifier((10,10), activation='relu',max_iter=2000)))"
   ]
  },
  {
   "cell_type": "code",
   "execution_count": 167,
   "metadata": {},
   "outputs": [
    {
     "name": "stdout",
     "output_type": "stream",
     "text": [
      "\u001b[1mLogistic_Regression\u001b[0m\n",
      "Accuracy          = 0.94  \n",
      "Wrong Predictions = 25\n",
      "\u001b[1mK_Neighbors_Classifier\u001b[0m\n",
      "Accuracy          = 0.92  \n",
      "Wrong Predictions = 33\n",
      "\u001b[1mDecision_Tree\u001b[0m\n",
      "Accuracy          = 0.96  \n",
      "Wrong Predictions = 17\n",
      "\u001b[1mRandom_Forest\u001b[0m\n",
      "Accuracy          = 0.94  \n",
      "Wrong Predictions = 23\n",
      "\u001b[1mNeural_Network_Logistic\u001b[0m\n",
      "Accuracy          = 0.93  \n",
      "Wrong Predictions = 29\n",
      "\u001b[1mNeural_Network_ReLU\u001b[0m\n",
      "Accuracy          = 0.92  \n",
      "Wrong Predictions = 32\n"
     ]
    }
   ],
   "source": [
    "# Creating an empty lists/dictionaries to append results\n",
    "results_train={}\n",
    "results_test={}\n",
    "accuracy_train={}\n",
    "accuracy_test={}\n",
    "diff={}\n",
    "\n",
    "# For loop will iterate through each models in 'models' list\n",
    "for name, model in models:\n",
    "    model.fit(X_train,Y_train)\n",
    "    prediction_train=model.predict(X_train)\n",
    "    prediction_test=model.predict(X_test)\n",
    "    results_train[name]=prediction_train\n",
    "    results_test[name]=prediction_test\n",
    "    accuracy_train[name]=round(metrics.accuracy_score(prediction_train,Y_train),2)\n",
    "    accuracy_test[name]=round(metrics.accuracy_score(prediction_test,Y_test),2)\n",
    "    diff[name]=(abs(prediction_test-Y_test).sum())\n",
    "    print('\\033[1m%s\\033[0m' '\\nAccuracy          = %.2f  \\nWrong Predictions = %i' % (name, accuracy_test[name], diff[name]))\n",
    "\n",
    "    \n",
    "# print('Predicting Train:',accuracy_train)\n",
    "# print('Predicting Test:',accuracy_test)\n",
    "# print('Number of wrong predictions:',diff)"
   ]
  },
  {
   "cell_type": "markdown",
   "metadata": {},
   "source": [
    "## Step 8: Results\n",
    "\n",
    "As shown above, Decision Tree method provided the highest accuracy of 0.96 and total of 17 wrong predictions. However, all other methond have predicted with high accuracy of 0.92 or above. There are several ways that we could improve our predictions:\n",
    "- implement another machine learning methods\n",
    "- use some of the columns we discarded to generate better features\n",
    "- ensemble multiple models to get more accurate result\n",
    "- tune the parameters of the algorithm to achieve higher performance"
   ]
  },
  {
   "cell_type": "code",
   "execution_count": null,
   "metadata": {},
   "outputs": [],
   "source": []
  }
 ],
 "metadata": {
  "kernelspec": {
   "display_name": "Python 3",
   "language": "python",
   "name": "python3"
  },
  "language_info": {
   "codemirror_mode": {
    "name": "ipython",
    "version": 3
   },
   "file_extension": ".py",
   "mimetype": "text/x-python",
   "name": "python",
   "nbconvert_exporter": "python",
   "pygments_lexer": "ipython3",
   "version": "3.7.6"
  }
 },
 "nbformat": 4,
 "nbformat_minor": 4
}
